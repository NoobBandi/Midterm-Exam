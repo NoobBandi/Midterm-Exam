{
  "cells": [
    {
      "cell_type": "code",
      "execution_count": null,
      "metadata": {
        "colab": {
          "base_uri": "https://localhost:8080/"
        },
        "id": "nCmSR1Bzxq8K",
        "outputId": "f255b715-fb92-4d06-a4a2-1259762541f7"
      },
      "outputs": [
        {
          "ename": "",
          "evalue": "",
          "output_type": "error",
          "traceback": [
            "\u001b[1;31mRunning cells with 'Python 3.12.2' requires the ipykernel package.\n",
            "\u001b[1;31m<a href='command:jupyter.createPythonEnvAndSelectController'>Create a Python Environment</a> with the required packages.\n",
            "\u001b[1;31mOr install 'ipykernel' using the command: 'c:/Users/mrban/AppData/Local/Programs/Python/Python312/python.exe -m pip install ipykernel -U --user --force-reinstall'"
          ]
        }
      ],
      "source": [
        "pip install numpy scikit-learn matplotlib graphviz"
      ]
    },
    {
      "cell_type": "code",
      "execution_count": null,
      "metadata": {
        "colab": {
          "base_uri": "https://localhost:8080/",
          "height": 899
        },
        "id": "x0Yr840oxlu4",
        "outputId": "12966c52-d133-44da-c0ff-4c0e3977e0ef"
      },
      "outputs": [],
      "source": [
        "import numpy as np\n",
        "from sklearn import datasets\n",
        "from sklearn.tree import DecisionTreeClassifier, export_graphviz\n",
        "from sklearn.model_selection import train_test_split\n",
        "from sklearn.metrics import accuracy_score\n",
        "import graphviz\n",
        "\n",
        "np.random.seed(47)\n",
        "iris = datasets.load_iris()\n",
        "print(\"資料集的特徵欄位名稱：\", iris.feature_names)\n",
        "print(\"資料集的目標值：\", iris.target_names)\n",
        "X = iris.data\n",
        "Y = iris.target\n",
        "X_train, X_test, Y_train, Y_test = train_test_split(X, Y, test_size=0.33)\n",
        "decison_tree_clf = DecisionTreeClassifier(criterion='entropy')\n",
        "decison_tree_clf = decison_tree_clf.fit(X_train, Y_train)\n",
        "Y_predict = decison_tree_clf.predict(X_test)\n",
        "score = accuracy_score(Y_test, Y_predict)\n",
        "print(\"鳶尾花分類的預測準確率：\", score)\n",
        "\n",
        "feature_names = ['花萼長', '花萼寬', '花瓣長', '花瓣寬']\n",
        "dot_data = export_graphviz(decison_tree_clf, feature_names=feature_names, class_names=iris.target_names, filled=True, rounded=True)\n",
        "graph = graphviz.Source(dot_data)\n",
        "graph"
      ]
    }
  ],
  "metadata": {
    "colab": {
      "provenance": []
    },
    "kernelspec": {
      "display_name": "Python 3",
      "name": "python3"
    },
    "language_info": {
      "name": "python",
      "version": "3.12.2"
    }
  },
  "nbformat": 4,
  "nbformat_minor": 0
}
