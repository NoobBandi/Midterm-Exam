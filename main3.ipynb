{
 "cells": [
  {
   "cell_type": "code",
   "execution_count": null,
   "id": "0d35d317",
   "metadata": {},
   "outputs": [],
   "source": [
    "pip install numpy scikit-learn matplotlib"
   ]
  },
  {
   "cell_type": "code",
   "execution_count": null,
   "id": "e2e6b311",
   "metadata": {},
   "outputs": [],
   "source": [
    "import numpy as np\n",
    "from sklearn import datasets\n",
    "from sklearn.ensemble import RandomForestClassifier\n",
    "from sklearn.model_selection import train_test_split\n",
    "from sklearn.metrics import accuracy_score\n",
    "\n",
    "np.random.seed(47)\n",
    "\n",
    "iris = datasets.load_iris()\n",
    "X = iris.data\n",
    "Y = iris.target\n",
    "X_train, X_test, Y_train, Y_test = train_test_split(X, Y, test_size=0.33)\n",
    "random_forest_clf = RandomForestClassifier(n_estimators=10, random_state=42)\n",
    "random_forest_clf = random_forest_clf.fit(X_train, Y_train)\n",
    "Y_predict = random_forest_clf.predict(X_test)\n",
    "score = accuracy_score(Y_test, Y_predict)\n",
    "print(\"鳶尾花分類的預測準確率：\", score)"
   ]
  }
 ],
 "metadata": {
  "language_info": {
   "name": "python"
  }
 },
 "nbformat": 4,
 "nbformat_minor": 5
}
